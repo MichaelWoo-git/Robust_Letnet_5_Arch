{
 "cells": [
  {
   "cell_type": "markdown",
   "metadata": {},
   "source": [
    "__Imports__"
   ]
  },
  {
   "cell_type": "code",
   "execution_count": 158,
   "metadata": {},
   "outputs": [],
   "source": [
    "import tensorflow as tf\n",
    "from tensorflow import keras\n",
    "import numpy as np\n",
    "import pandas as pd\n",
    "from sklearn.model_selection import train_test_split\n",
    "from sklearn.preprocessing import Normalizer\n",
    "from matplotlib import pyplot\n",
    "import tensorflow_datasets as tfds"
   ]
  },
  {
   "cell_type": "markdown",
   "metadata": {},
   "source": [
    "__Dataset__"
   ]
  },
  {
   "cell_type": "code",
   "execution_count": 218,
   "metadata": {},
   "outputs": [],
   "source": [
    "digits = tf.keras.datasets.mnist.load_data(path='mnist.npz')\n",
    "fashion = tf.keras.datasets.fashion_mnist.load_data()\n",
    "cifar = tf.keras.datasets.cifar10.load_data()\n",
    "(x_train_full,y_train_full),(x_test,y_test) = cifar\n",
    "# ds = tfds.load('beans',shuffle_files=True)"
   ]
  },
  {
   "cell_type": "markdown",
   "metadata": {},
   "source": [
    "__Batch_size=-1 to get the full dataset in NumPy arrays from the returned tf.Tensor object__"
   ]
  },
  {
   "cell_type": "code",
   "execution_count": 189,
   "metadata": {},
   "outputs": [],
   "source": [
    "# beans = \"beans\"\n",
    "# horse_or_human = \"horses_or_humans\"\n",
    "# bee = \"bee_dataset\"\n",
    "# rock_paper_scissors = \"rock_paper_scissors\""
   ]
  },
  {
   "cell_type": "markdown",
   "metadata": {},
   "source": [
    "__Beans__"
   ]
  },
  {
   "cell_type": "code",
   "execution_count": 190,
   "metadata": {},
   "outputs": [],
   "source": [
    "# train = tfds.load(name=beans, split=tfds.Split.TRAIN, batch_size=-1 ,shuffle_files=True) \n",
    "# valid = tfds.load(name=beans, split=tfds.Split.VALIDATION, batch_size=-1)\n",
    "# test = tfds.load(name=beans, split=tfds.Split.TEST, batch_size=-1,shuffle_files=True)"
   ]
  },
  {
   "cell_type": "markdown",
   "metadata": {},
   "source": [
    "__Horse OR Human__"
   ]
  },
  {
   "cell_type": "code",
   "execution_count": 137,
   "metadata": {},
   "outputs": [],
   "source": [
    "train = tfds.load(name=horse_or_human, split=tfds.Split.TRAIN, batch_size=-1 ,shuffle_files=True) \n",
    "# valid = tfds.load(name=beans, split=tfds.Split.VALIDATION, batch_size=-1)\n",
    "test = tfds.load(name=horse_or_human, split=tfds.Split.TEST, batch_size=-1,shuffle_files=True)"
   ]
  },
  {
   "cell_type": "code",
   "execution_count": 216,
   "metadata": {},
   "outputs": [],
   "source": [
    "# train = tfds.load(name=rock_paper_scissors, split=tfds.Split.TRAIN, batch_size=-1 ,shuffle_files=True) \n",
    "# test = tfds.load(name=rock_paper_scissors, split=tfds.Split.TEST, batch_size=-1,shuffle_files=True)"
   ]
  },
  {
   "cell_type": "markdown",
   "metadata": {},
   "source": [
    "__tfds.as_numpy return a generator that yields NumPy array records out of a tf.data.Dataset__"
   ]
  },
  {
   "cell_type": "code",
   "execution_count": 217,
   "metadata": {},
   "outputs": [],
   "source": [
    "# # size = round(len(train.get('label'))*0.80\n",
    "# train = tfds.as_numpy(train)\n",
    "# # # valid = tfds.as_numpy(train)\n",
    "# test = tfds.as_numpy(test)"
   ]
  },
  {
   "cell_type": "markdown",
   "metadata": {},
   "source": [
    "__Seperate the x and y__"
   ]
  },
  {
   "cell_type": "code",
   "execution_count": 90,
   "metadata": {},
   "outputs": [
    {
     "data": {
      "text/plain": [
       "1027"
      ]
     },
     "execution_count": 90,
     "metadata": {},
     "output_type": "execute_result"
    }
   ],
   "source": [
    "len(train.get('label'))"
   ]
  },
  {
   "cell_type": "code",
   "execution_count": 193,
   "metadata": {},
   "outputs": [],
   "source": [
    "# x_train, y_train = train[\"image\"], train[\"label\"] \n",
    "# # x_valid, y_valid = x_train_full[size:],y_train_full[size:]\n",
    "# x_test, y_test = test[\"image\"], test[\"label\"]"
   ]
  },
  {
   "cell_type": "code",
   "execution_count": 96,
   "metadata": {},
   "outputs": [
    {
     "data": {
      "text/plain": [
       "{'image': array([[[[ 53,  55,  45],\n",
       "          [ 46,  47,  40],\n",
       "          [ 39,  40,  36],\n",
       "          ...,\n",
       "          [ 24,  25,  24],\n",
       "          [ 21,  23,  21],\n",
       "          [ 19,  21,  20]],\n",
       " \n",
       "         [[ 41,  40,  34],\n",
       "          [ 49,  48,  42],\n",
       "          [ 54,  53,  48],\n",
       "          ...,\n",
       "          [ 18,  20,  19],\n",
       "          [ 16,  18,  16],\n",
       "          [ 16,  18,  16]],\n",
       " \n",
       "         [[ 33,  29,  28],\n",
       "          [ 50,  47,  42],\n",
       "          [ 62,  58,  53],\n",
       "          ...,\n",
       "          [ 17,  19,  17],\n",
       "          [ 15,  16,  14],\n",
       "          [ 14,  15,  13]],\n",
       " \n",
       "         ...,\n",
       " \n",
       "         [[160, 143, 125],\n",
       "          [162, 147, 129],\n",
       "          [142, 128, 109],\n",
       "          ...,\n",
       "          [144, 124, 106],\n",
       "          [141, 121, 104],\n",
       "          [161, 141, 122]],\n",
       " \n",
       "         [[142, 125, 107],\n",
       "          [155, 134, 115],\n",
       "          [153, 132, 113],\n",
       "          ...,\n",
       "          [149, 129, 113],\n",
       "          [156, 134, 115],\n",
       "          [163, 142, 123]],\n",
       " \n",
       "         [[120, 101,  85],\n",
       "          [123, 103,  87],\n",
       "          [119, 101,  84],\n",
       "          ...,\n",
       "          [158, 136, 118],\n",
       "          [163, 139, 120],\n",
       "          [170, 149, 129]]],\n",
       " \n",
       " \n",
       "        [[[255, 227, 204],\n",
       "          [253, 226, 203],\n",
       "          [251, 223, 200],\n",
       "          ...,\n",
       "          [128, 121,  88],\n",
       "          [122, 112,  78],\n",
       "          [108,  96,  57]],\n",
       " \n",
       "         [[254, 227, 203],\n",
       "          [252, 224, 201],\n",
       "          [252, 224, 203],\n",
       "          ...,\n",
       "          [119, 109,  81],\n",
       "          [116, 104,  79],\n",
       "          [105,  94,  70]],\n",
       " \n",
       "         [[252, 223, 199],\n",
       "          [251, 223, 200],\n",
       "          [253, 226, 204],\n",
       "          ...,\n",
       "          [106,  96,  76],\n",
       "          [102,  93,  74],\n",
       "          [106,  95,  80]],\n",
       " \n",
       "         ...,\n",
       " \n",
       "         [[223, 186, 153],\n",
       "          [227, 190, 157],\n",
       "          [221, 186, 155],\n",
       "          ...,\n",
       "          [240, 207, 179],\n",
       "          [244, 208, 177],\n",
       "          [248, 209, 175]],\n",
       " \n",
       "         [[224, 188, 155],\n",
       "          [229, 191, 158],\n",
       "          [227, 191, 158],\n",
       "          ...,\n",
       "          [236, 200, 171],\n",
       "          [239, 202, 171],\n",
       "          [244, 204, 171]],\n",
       " \n",
       "         [[224, 187, 154],\n",
       "          [227, 188, 154],\n",
       "          [225, 188, 154],\n",
       "          ...,\n",
       "          [230, 193, 164],\n",
       "          [233, 196, 167],\n",
       "          [236, 198, 166]]],\n",
       " \n",
       " \n",
       "        [[[157, 180, 202],\n",
       "          [157, 180, 202],\n",
       "          [157, 180, 202],\n",
       "          ...,\n",
       "          [213, 235, 255],\n",
       "          [214, 235, 255],\n",
       "          [215, 236, 255]],\n",
       " \n",
       "         [[158, 181, 202],\n",
       "          [158, 181, 202],\n",
       "          [158, 181, 202],\n",
       "          ...,\n",
       "          [214, 236, 255],\n",
       "          [215, 237, 255],\n",
       "          [216, 237, 255]],\n",
       " \n",
       "         [[159, 181, 203],\n",
       "          [159, 181, 203],\n",
       "          [158, 181, 203],\n",
       "          ...,\n",
       "          [215, 237, 255],\n",
       "          [216, 238, 255],\n",
       "          [216, 238, 255]],\n",
       " \n",
       "         ...,\n",
       " \n",
       "         [[ 61,  53,  46],\n",
       "          [ 55,  48,  42],\n",
       "          [ 53,  47,  42],\n",
       "          ...,\n",
       "          [ 30,  27,  28],\n",
       "          [ 29,  27,  28],\n",
       "          [ 28,  25,  27]],\n",
       " \n",
       "         [[ 40,  37,  35],\n",
       "          [ 39,  36,  34],\n",
       "          [ 40,  37,  35],\n",
       "          ...,\n",
       "          [ 27,  24,  25],\n",
       "          [ 26,  24,  25],\n",
       "          [ 26,  23,  25]],\n",
       " \n",
       "         [[ 40,  36,  35],\n",
       "          [ 34,  31,  30],\n",
       "          [ 35,  33,  32],\n",
       "          ...,\n",
       "          [ 24,  21,  22],\n",
       "          [ 23,  20,  21],\n",
       "          [ 24,  21,  22]]],\n",
       " \n",
       " \n",
       "        ...,\n",
       " \n",
       " \n",
       "        [[[ 27,  81, 131],\n",
       "          [ 32,  70, 111],\n",
       "          [ 39,  61,  91],\n",
       "          ...,\n",
       "          [ 89,  93,  72],\n",
       "          [ 93,  93,  73],\n",
       "          [ 82,  79,  64]],\n",
       " \n",
       "         [[ 43,  90, 139],\n",
       "          [ 37,  76, 121],\n",
       "          [ 52,  71, 101],\n",
       "          ...,\n",
       "          [ 76,  81,  63],\n",
       "          [ 83,  84,  66],\n",
       "          [ 86,  84,  69]],\n",
       " \n",
       "         [[ 70,  90, 122],\n",
       "          [ 55,  79, 115],\n",
       "          [ 60,  73, 100],\n",
       "          ...,\n",
       "          [ 66,  71,  55],\n",
       "          [ 76,  78,  61],\n",
       "          [ 74,  73,  57]],\n",
       " \n",
       "         ...,\n",
       " \n",
       "         [[ 27,  30,  24],\n",
       "          [ 16,  18,  17],\n",
       "          [ 13,  14,  15],\n",
       "          ...,\n",
       "          [190, 137, 111],\n",
       "          [175, 125, 101],\n",
       "          [180, 126, 100]],\n",
       " \n",
       "         [[ 31,  35,  26],\n",
       "          [ 22,  23,  20],\n",
       "          [ 18,  17,  17],\n",
       "          ...,\n",
       "          [189, 135, 109],\n",
       "          [172, 123,  99],\n",
       "          [175, 123,  97]],\n",
       " \n",
       "         [[ 36,  41,  30],\n",
       "          [ 23,  24,  20],\n",
       "          [ 20,  18,  17],\n",
       "          ...,\n",
       "          [190, 135, 110],\n",
       "          [174, 123,  99],\n",
       "          [175, 123,  97]]],\n",
       " \n",
       " \n",
       "        [[[ 23,  29,  35],\n",
       "          [ 23,  29,  35],\n",
       "          [ 23,  29,  35],\n",
       "          ...,\n",
       "          [188, 177, 160],\n",
       "          [198, 187, 170],\n",
       "          [202, 190, 173]],\n",
       " \n",
       "         [[ 23,  29,  35],\n",
       "          [ 23,  29,  36],\n",
       "          [ 23,  29,  36],\n",
       "          ...,\n",
       "          [199, 188, 171],\n",
       "          [208, 196, 179],\n",
       "          [212, 199, 182]],\n",
       " \n",
       "         [[ 23,  29,  36],\n",
       "          [ 23,  30,  36],\n",
       "          [ 23,  30,  36],\n",
       "          ...,\n",
       "          [182, 171, 153],\n",
       "          [198, 187, 170],\n",
       "          [210, 198, 181]],\n",
       " \n",
       "         ...,\n",
       " \n",
       "         [[178, 167, 150],\n",
       "          [176, 165, 148],\n",
       "          [176, 165, 148],\n",
       "          ...,\n",
       "          [186, 173, 154],\n",
       "          [198, 187, 168],\n",
       "          [203, 191, 174]],\n",
       " \n",
       "         [[174, 162, 145],\n",
       "          [174, 162, 145],\n",
       "          [179, 167, 150],\n",
       "          ...,\n",
       "          [181, 169, 151],\n",
       "          [179, 167, 149],\n",
       "          [174, 161, 144]],\n",
       " \n",
       "         [[174, 163, 146],\n",
       "          [174, 163, 146],\n",
       "          [173, 161, 144],\n",
       "          ...,\n",
       "          [162, 152, 136],\n",
       "          [156, 146, 131],\n",
       "          [139, 130, 115]]],\n",
       " \n",
       " \n",
       "        [[[192, 215, 233],\n",
       "          [193, 215, 233],\n",
       "          [193, 215, 234],\n",
       "          ...,\n",
       "          [244, 255, 255],\n",
       "          [245, 255, 255],\n",
       "          [245, 255, 255]],\n",
       " \n",
       "         [[193, 215, 234],\n",
       "          [193, 215, 234],\n",
       "          [193, 215, 234],\n",
       "          ...,\n",
       "          [244, 255, 255],\n",
       "          [245, 255, 255],\n",
       "          [245, 255, 255]],\n",
       " \n",
       "         [[193, 216, 234],\n",
       "          [193, 216, 234],\n",
       "          [193, 216, 234],\n",
       "          ...,\n",
       "          [244, 255, 255],\n",
       "          [245, 255, 255],\n",
       "          [244, 255, 255]],\n",
       " \n",
       "         ...,\n",
       " \n",
       "         [[ 64,  55,  51],\n",
       "          [ 62,  53,  50],\n",
       "          [ 54,  47,  44],\n",
       "          ...,\n",
       "          [ 36,  31,  30],\n",
       "          [ 30,  26,  25],\n",
       "          [ 30,  26,  24]],\n",
       " \n",
       "         [[ 59,  50,  46],\n",
       "          [ 58,  50,  46],\n",
       "          [ 55,  49,  46],\n",
       "          ...,\n",
       "          [ 37,  33,  32],\n",
       "          [ 29,  25,  24],\n",
       "          [ 27,  23,  21]],\n",
       " \n",
       "         [[ 56,  47,  43],\n",
       "          [ 55,  47,  43],\n",
       "          [ 52,  46,  43],\n",
       "          ...,\n",
       "          [ 48,  43,  40],\n",
       "          [ 38,  33,  32],\n",
       "          [ 33,  29,  28]]]], dtype=uint8),\n",
       " 'label': array([0, 0, 0, ..., 0, 1, 0], dtype=int64)}"
      ]
     },
     "execution_count": 96,
     "metadata": {},
     "output_type": "execute_result"
    }
   ],
   "source": [
    "tfds.as_numpy(train)"
   ]
  },
  {
   "cell_type": "code",
   "execution_count": 194,
   "metadata": {},
   "outputs": [
    {
     "name": "stdout",
     "output_type": "stream",
     "text": [
      "These are the Shapes of these Sets: \n",
      "Train: (2520, 300, 300, 3) \n",
      "Valid: (133, 500, 500, 3) \n",
      "Test: (372, 300, 300, 3)\n"
     ]
    }
   ],
   "source": [
    "# print(\"These are the Shapes of these Sets: \\nTrain: {} \\nValid: {} \\nTest: {}\".format(x_train.shape,x_valid.shape,x_test.shape))"
   ]
  },
  {
   "cell_type": "code",
   "execution_count": 97,
   "metadata": {},
   "outputs": [
    {
     "data": {
      "text/plain": [
       "{'image': <tf.Tensor: shape=(1027, 300, 300, 3), dtype=uint8, numpy=\n",
       " array([[[[ 53,  55,  45],\n",
       "          [ 46,  47,  40],\n",
       "          [ 39,  40,  36],\n",
       "          ...,\n",
       "          [ 24,  25,  24],\n",
       "          [ 21,  23,  21],\n",
       "          [ 19,  21,  20]],\n",
       " \n",
       "         [[ 41,  40,  34],\n",
       "          [ 49,  48,  42],\n",
       "          [ 54,  53,  48],\n",
       "          ...,\n",
       "          [ 18,  20,  19],\n",
       "          [ 16,  18,  16],\n",
       "          [ 16,  18,  16]],\n",
       " \n",
       "         [[ 33,  29,  28],\n",
       "          [ 50,  47,  42],\n",
       "          [ 62,  58,  53],\n",
       "          ...,\n",
       "          [ 17,  19,  17],\n",
       "          [ 15,  16,  14],\n",
       "          [ 14,  15,  13]],\n",
       " \n",
       "         ...,\n",
       " \n",
       "         [[160, 143, 125],\n",
       "          [162, 147, 129],\n",
       "          [142, 128, 109],\n",
       "          ...,\n",
       "          [144, 124, 106],\n",
       "          [141, 121, 104],\n",
       "          [161, 141, 122]],\n",
       " \n",
       "         [[142, 125, 107],\n",
       "          [155, 134, 115],\n",
       "          [153, 132, 113],\n",
       "          ...,\n",
       "          [149, 129, 113],\n",
       "          [156, 134, 115],\n",
       "          [163, 142, 123]],\n",
       " \n",
       "         [[120, 101,  85],\n",
       "          [123, 103,  87],\n",
       "          [119, 101,  84],\n",
       "          ...,\n",
       "          [158, 136, 118],\n",
       "          [163, 139, 120],\n",
       "          [170, 149, 129]]],\n",
       " \n",
       " \n",
       "        [[[255, 227, 204],\n",
       "          [253, 226, 203],\n",
       "          [251, 223, 200],\n",
       "          ...,\n",
       "          [128, 121,  88],\n",
       "          [122, 112,  78],\n",
       "          [108,  96,  57]],\n",
       " \n",
       "         [[254, 227, 203],\n",
       "          [252, 224, 201],\n",
       "          [252, 224, 203],\n",
       "          ...,\n",
       "          [119, 109,  81],\n",
       "          [116, 104,  79],\n",
       "          [105,  94,  70]],\n",
       " \n",
       "         [[252, 223, 199],\n",
       "          [251, 223, 200],\n",
       "          [253, 226, 204],\n",
       "          ...,\n",
       "          [106,  96,  76],\n",
       "          [102,  93,  74],\n",
       "          [106,  95,  80]],\n",
       " \n",
       "         ...,\n",
       " \n",
       "         [[223, 186, 153],\n",
       "          [227, 190, 157],\n",
       "          [221, 186, 155],\n",
       "          ...,\n",
       "          [240, 207, 179],\n",
       "          [244, 208, 177],\n",
       "          [248, 209, 175]],\n",
       " \n",
       "         [[224, 188, 155],\n",
       "          [229, 191, 158],\n",
       "          [227, 191, 158],\n",
       "          ...,\n",
       "          [236, 200, 171],\n",
       "          [239, 202, 171],\n",
       "          [244, 204, 171]],\n",
       " \n",
       "         [[224, 187, 154],\n",
       "          [227, 188, 154],\n",
       "          [225, 188, 154],\n",
       "          ...,\n",
       "          [230, 193, 164],\n",
       "          [233, 196, 167],\n",
       "          [236, 198, 166]]],\n",
       " \n",
       " \n",
       "        [[[157, 180, 202],\n",
       "          [157, 180, 202],\n",
       "          [157, 180, 202],\n",
       "          ...,\n",
       "          [213, 235, 255],\n",
       "          [214, 235, 255],\n",
       "          [215, 236, 255]],\n",
       " \n",
       "         [[158, 181, 202],\n",
       "          [158, 181, 202],\n",
       "          [158, 181, 202],\n",
       "          ...,\n",
       "          [214, 236, 255],\n",
       "          [215, 237, 255],\n",
       "          [216, 237, 255]],\n",
       " \n",
       "         [[159, 181, 203],\n",
       "          [159, 181, 203],\n",
       "          [158, 181, 203],\n",
       "          ...,\n",
       "          [215, 237, 255],\n",
       "          [216, 238, 255],\n",
       "          [216, 238, 255]],\n",
       " \n",
       "         ...,\n",
       " \n",
       "         [[ 61,  53,  46],\n",
       "          [ 55,  48,  42],\n",
       "          [ 53,  47,  42],\n",
       "          ...,\n",
       "          [ 30,  27,  28],\n",
       "          [ 29,  27,  28],\n",
       "          [ 28,  25,  27]],\n",
       " \n",
       "         [[ 40,  37,  35],\n",
       "          [ 39,  36,  34],\n",
       "          [ 40,  37,  35],\n",
       "          ...,\n",
       "          [ 27,  24,  25],\n",
       "          [ 26,  24,  25],\n",
       "          [ 26,  23,  25]],\n",
       " \n",
       "         [[ 40,  36,  35],\n",
       "          [ 34,  31,  30],\n",
       "          [ 35,  33,  32],\n",
       "          ...,\n",
       "          [ 24,  21,  22],\n",
       "          [ 23,  20,  21],\n",
       "          [ 24,  21,  22]]],\n",
       " \n",
       " \n",
       "        ...,\n",
       " \n",
       " \n",
       "        [[[ 27,  81, 131],\n",
       "          [ 32,  70, 111],\n",
       "          [ 39,  61,  91],\n",
       "          ...,\n",
       "          [ 89,  93,  72],\n",
       "          [ 93,  93,  73],\n",
       "          [ 82,  79,  64]],\n",
       " \n",
       "         [[ 43,  90, 139],\n",
       "          [ 37,  76, 121],\n",
       "          [ 52,  71, 101],\n",
       "          ...,\n",
       "          [ 76,  81,  63],\n",
       "          [ 83,  84,  66],\n",
       "          [ 86,  84,  69]],\n",
       " \n",
       "         [[ 70,  90, 122],\n",
       "          [ 55,  79, 115],\n",
       "          [ 60,  73, 100],\n",
       "          ...,\n",
       "          [ 66,  71,  55],\n",
       "          [ 76,  78,  61],\n",
       "          [ 74,  73,  57]],\n",
       " \n",
       "         ...,\n",
       " \n",
       "         [[ 27,  30,  24],\n",
       "          [ 16,  18,  17],\n",
       "          [ 13,  14,  15],\n",
       "          ...,\n",
       "          [190, 137, 111],\n",
       "          [175, 125, 101],\n",
       "          [180, 126, 100]],\n",
       " \n",
       "         [[ 31,  35,  26],\n",
       "          [ 22,  23,  20],\n",
       "          [ 18,  17,  17],\n",
       "          ...,\n",
       "          [189, 135, 109],\n",
       "          [172, 123,  99],\n",
       "          [175, 123,  97]],\n",
       " \n",
       "         [[ 36,  41,  30],\n",
       "          [ 23,  24,  20],\n",
       "          [ 20,  18,  17],\n",
       "          ...,\n",
       "          [190, 135, 110],\n",
       "          [174, 123,  99],\n",
       "          [175, 123,  97]]],\n",
       " \n",
       " \n",
       "        [[[ 23,  29,  35],\n",
       "          [ 23,  29,  35],\n",
       "          [ 23,  29,  35],\n",
       "          ...,\n",
       "          [188, 177, 160],\n",
       "          [198, 187, 170],\n",
       "          [202, 190, 173]],\n",
       " \n",
       "         [[ 23,  29,  35],\n",
       "          [ 23,  29,  36],\n",
       "          [ 23,  29,  36],\n",
       "          ...,\n",
       "          [199, 188, 171],\n",
       "          [208, 196, 179],\n",
       "          [212, 199, 182]],\n",
       " \n",
       "         [[ 23,  29,  36],\n",
       "          [ 23,  30,  36],\n",
       "          [ 23,  30,  36],\n",
       "          ...,\n",
       "          [182, 171, 153],\n",
       "          [198, 187, 170],\n",
       "          [210, 198, 181]],\n",
       " \n",
       "         ...,\n",
       " \n",
       "         [[178, 167, 150],\n",
       "          [176, 165, 148],\n",
       "          [176, 165, 148],\n",
       "          ...,\n",
       "          [186, 173, 154],\n",
       "          [198, 187, 168],\n",
       "          [203, 191, 174]],\n",
       " \n",
       "         [[174, 162, 145],\n",
       "          [174, 162, 145],\n",
       "          [179, 167, 150],\n",
       "          ...,\n",
       "          [181, 169, 151],\n",
       "          [179, 167, 149],\n",
       "          [174, 161, 144]],\n",
       " \n",
       "         [[174, 163, 146],\n",
       "          [174, 163, 146],\n",
       "          [173, 161, 144],\n",
       "          ...,\n",
       "          [162, 152, 136],\n",
       "          [156, 146, 131],\n",
       "          [139, 130, 115]]],\n",
       " \n",
       " \n",
       "        [[[192, 215, 233],\n",
       "          [193, 215, 233],\n",
       "          [193, 215, 234],\n",
       "          ...,\n",
       "          [244, 255, 255],\n",
       "          [245, 255, 255],\n",
       "          [245, 255, 255]],\n",
       " \n",
       "         [[193, 215, 234],\n",
       "          [193, 215, 234],\n",
       "          [193, 215, 234],\n",
       "          ...,\n",
       "          [244, 255, 255],\n",
       "          [245, 255, 255],\n",
       "          [245, 255, 255]],\n",
       " \n",
       "         [[193, 216, 234],\n",
       "          [193, 216, 234],\n",
       "          [193, 216, 234],\n",
       "          ...,\n",
       "          [244, 255, 255],\n",
       "          [245, 255, 255],\n",
       "          [244, 255, 255]],\n",
       " \n",
       "         ...,\n",
       " \n",
       "         [[ 64,  55,  51],\n",
       "          [ 62,  53,  50],\n",
       "          [ 54,  47,  44],\n",
       "          ...,\n",
       "          [ 36,  31,  30],\n",
       "          [ 30,  26,  25],\n",
       "          [ 30,  26,  24]],\n",
       " \n",
       "         [[ 59,  50,  46],\n",
       "          [ 58,  50,  46],\n",
       "          [ 55,  49,  46],\n",
       "          ...,\n",
       "          [ 37,  33,  32],\n",
       "          [ 29,  25,  24],\n",
       "          [ 27,  23,  21]],\n",
       " \n",
       "         [[ 56,  47,  43],\n",
       "          [ 55,  47,  43],\n",
       "          [ 52,  46,  43],\n",
       "          ...,\n",
       "          [ 48,  43,  40],\n",
       "          [ 38,  33,  32],\n",
       "          [ 33,  29,  28]]]], dtype=uint8)>,\n",
       " 'label': <tf.Tensor: shape=(1027,), dtype=int64, numpy=array([0, 0, 0, ..., 0, 1, 0], dtype=int64)>}"
      ]
     },
     "execution_count": 97,
     "metadata": {},
     "output_type": "execute_result"
    }
   ],
   "source": [
    "train"
   ]
  },
  {
   "cell_type": "code",
   "execution_count": null,
   "metadata": {},
   "outputs": [],
   "source": [
    "x)"
   ]
  },
  {
   "cell_type": "code",
   "execution_count": 178,
   "metadata": {},
   "outputs": [
    {
     "data": {
      "text/plain": [
       "array([1, 0, 1, ..., 0, 0, 1], dtype=int64)"
      ]
     },
     "execution_count": 178,
     "metadata": {},
     "output_type": "execute_result"
    }
   ],
   "source": [
    "y_train"
   ]
  },
  {
   "cell_type": "code",
   "execution_count": null,
   "metadata": {},
   "outputs": [],
   "source": [
    "train = tfds.load(name=horse_or_human, split=tfds.Split.TRAIN, batch_size=-1 ,shuffle_files=True) "
   ]
  },
  {
   "cell_type": "code",
   "execution_count": 226,
   "metadata": {},
   "outputs": [],
   "source": [
    "x_valid,x_train = x_train_full[:5000]/255.,x_train_full[5000:]/255.\n",
    "y_valid,y_train = y_train_full[:5000],y_train_full[5000:]\n",
    "x_test = x_test / 255."
   ]
  },
  {
   "cell_type": "code",
   "execution_count": 228,
   "metadata": {},
   "outputs": [
    {
     "data": {
      "text/plain": [
       "(45000, 32, 32, 3)"
      ]
     },
     "execution_count": 228,
     "metadata": {},
     "output_type": "execute_result"
    }
   ],
   "source": [
    "x_train.shape"
   ]
  },
  {
   "cell_type": "code",
   "execution_count": 220,
   "metadata": {},
   "outputs": [
    {
     "data": {
      "image/png": "[encoded data removed]",
      "text/plain": [
       "<Figure size 432x288 with 25 Axes>"
      ]
     },
     "metadata": {
      "needs_background": "light"
     },
     "output_type": "display_data"
    }
   ],
   "source": [
    "for i in range(25):\n",
    "# define subplot\n",
    "    pyplot.subplot(5, 5, i+1)\n",
    "    # plot raw pixel data\n",
    "    pyplot.imshow(x_train[i], cmap=pyplot.get_cmap('gray'))\n",
    "# show the figure\n",
    "pyplot.show()"
   ]
  },
  {
   "cell_type": "markdown",
   "metadata": {},
   "source": [
    "__Clear the Backend__"
   ]
  },
  {
   "cell_type": "code",
   "execution_count": 222,
   "metadata": {},
   "outputs": [],
   "source": [
    "keras.backend.clear_session()\n",
    "np.random.seed(42)\n",
    "tf.random.set_seed(42)"
   ]
  },
  {
   "cell_type": "markdown",
   "metadata": {},
   "source": [
    "__Piecewise Constant Scheduling__\n",
    "* Added an additional learning constant\n",
    "* A dynamic learning process"
   ]
  },
  {
   "cell_type": "code",
   "execution_count": 223,
   "metadata": {},
   "outputs": [],
   "source": [
    "def piecewise_constant_fn(epoch):\n",
    "    if epoch < 5:\n",
    "        return 0.01\n",
    "    elif epoch < 10:\n",
    "        return 0.005\n",
    "    elif epoch < 15:\n",
    "        return 0.003\n",
    "    elif epoch < 20:\n",
    "        return 0.001\n",
    "    else:\n",
    "        return 0.0001"
   ]
  },
  {
   "cell_type": "code",
   "execution_count": 224,
   "metadata": {},
   "outputs": [],
   "source": [
    "def piecewise_constant(boundaries, values):\n",
    "    boundaries = np.array([0] + boundaries)\n",
    "    values = np.array(values)\n",
    "    def piecewise_constant_fn(epoch):\n",
    "        return values[np.argmax(boundaries > epoch) - 1]\n",
    "    return piecewise_constant_fn\n",
    "piecewise_constant_fn = piecewise_constant([5,10,15,20,25], [0.01, 0.005,0.003,0.001,0.0001])"
   ]
  },
  {
   "cell_type": "code",
   "execution_count": 225,
   "metadata": {},
   "outputs": [],
   "source": [
    "lr_scheduler = keras.callbacks.LearningRateScheduler(piecewise_constant_fn)"
   ]
  },
  {
   "cell_type": "markdown",
   "metadata": {},
   "source": [
    "__Model Creation__"
   ]
  },
  {
   "cell_type": "code",
   "execution_count": 229,
   "metadata": {},
   "outputs": [],
   "source": [
    "model = keras.models.Sequential()\n",
    "# model.add(keras.layers.Conv2D(filters=6, kernel_size=(3, 3),padding=\"valid\" ,\n",
    "#                               activation='selu',kernel_initializer=\"lecun_normal\", input_shape=(28,28,1)))\n",
    "model.add(keras.layers.Conv2D(filters=6, kernel_size=(3, 3),padding=\"valid\" ,\n",
    "                              activation='selu',kernel_initializer=\"lecun_normal\", input_shape=(32,32,3)))\n",
    "model.add(keras.layers.AveragePooling2D())\n",
    "model.add(keras.layers.BatchNormalization())\n",
    "model.add(keras.layers.Conv2D(filters=16, kernel_size=(3, 3),padding=\"valid\", \n",
    "                              activation='selu',kernel_initializer=\"lecun_normal\"))\n",
    "model.add(keras.layers.AveragePooling2D())\n",
    "model.add(keras.layers.BatchNormalization())\n",
    "model.add(keras.layers.GaussianDropout(0.25))\n",
    "model.add(keras.layers.Flatten())\n",
    "model.add(keras.layers.BatchNormalization())\n",
    "model.add(keras.layers.Dense(units=120, activation='selu',kernel_initializer=\"lecun_normal\"))\n",
    "model.add(keras.layers.BatchNormalization())\n",
    "model.add(keras.layers.Dense(units=84, activation='selu',kernel_initializer=\"lecun_normal\"))\n",
    "model.add(keras.layers.Dense(units=10, activation = 'softmax'))"
   ]
  },
  {
   "cell_type": "code",
   "execution_count": 230,
   "metadata": {},
   "outputs": [
    {
     "name": "stdout",
     "output_type": "stream",
     "text": [
      "Model: \"sequential\"\n",
      "_________________________________________________________________\n",
      " Layer (type)                Output Shape              Param #   \n",
      "=================================================================\n",
      " conv2d (Conv2D)             (None, 30, 30, 6)         168       \n",
      "                                                                 \n",
      " average_pooling2d (AverageP  (None, 15, 15, 6)        0         \n",
      " ooling2D)                                                       \n",
      "                                                                 \n",
      " batch_normalization (BatchN  (None, 15, 15, 6)        24        \n",
      " ormalization)                                                   \n",
      "                                                                 \n",
      " conv2d_1 (Conv2D)           (None, 13, 13, 16)        880       \n",
      "                                                                 \n",
      " average_pooling2d_1 (Averag  (None, 6, 6, 16)         0         \n",
      " ePooling2D)                                                     \n",
      "                                                                 \n",
      " batch_normalization_1 (Batc  (None, 6, 6, 16)         64        \n",
      " hNormalization)                                                 \n",
      "                                                                 \n",
      " gaussian_dropout (GaussianD  (None, 6, 6, 16)         0         \n",
      " ropout)                                                         \n",
      "                                                                 \n",
      " flatten (Flatten)           (None, 576)               0         \n",
      "                                                                 \n",
      " batch_normalization_2 (Batc  (None, 576)              2304      \n",
      " hNormalization)                                                 \n",
      "                                                                 \n",
      " dense (Dense)               (None, 120)               69240     \n",
      "                                                                 \n",
      " batch_normalization_3 (Batc  (None, 120)              480       \n",
      " hNormalization)                                                 \n",
      "                                                                 \n",
      " dense_1 (Dense)             (None, 84)                10164     \n",
      "                                                                 \n",
      " dense_2 (Dense)             (None, 10)                850       \n",
      "                                                                 \n",
      "=================================================================\n",
      "Total params: 84,174\n",
      "Trainable params: 82,738\n",
      "Non-trainable params: 1,436\n",
      "_________________________________________________________________\n"
     ]
    }
   ],
   "source": [
    "model.summary()"
   ]
  },
  {
   "cell_type": "code",
   "execution_count": 231,
   "metadata": {},
   "outputs": [],
   "source": [
    "# import visualkeras\n",
    "# visualkeras.layered_view(model)"
   ]
  },
  {
   "cell_type": "code",
   "execution_count": 232,
   "metadata": {},
   "outputs": [],
   "source": [
    "# from tensorflow.keras.utils import plot_model\n",
    "# plot_model(model, 'model.png', show_shapes=True)"
   ]
  },
  {
   "cell_type": "markdown",
   "metadata": {},
   "source": [
    "__Model Compile__"
   ]
  },
  {
   "cell_type": "code",
   "execution_count": 233,
   "metadata": {},
   "outputs": [],
   "source": [
    "model.compile(loss=\"sparse_categorical_crossentropy\",\n",
    "              optimizer=keras.optimizers.Adam(clipvalue=1.0,clipnorm=1.0),metrics=[\"accuracy\"])"
   ]
  },
  {
   "cell_type": "markdown",
   "metadata": {},
   "source": [
    "__Model Fitting__"
   ]
  },
  {
   "cell_type": "code",
   "execution_count": null,
   "metadata": {
    "scrolled": true
   },
   "outputs": [
    {
     "name": "stdout",
     "output_type": "stream",
     "text": [
      "Epoch 1/25\n",
      "1407/1407 [==============================] - 7s 5ms/step - loss: 1.4465 - accuracy: 0.4800 - val_loss: 1.3683 - val_accuracy: 0.5036 - lr: 0.0100\n",
      "Epoch 2/25\n",
      "1407/1407 [==============================] - 7s 5ms/step - loss: 1.3638 - accuracy: 0.5130 - val_loss: 1.3538 - val_accuracy: 0.5178 - lr: 0.0100\n",
      "Epoch 3/25\n",
      "1407/1407 [==============================] - 7s 5ms/step - loss: 1.3033 - accuracy: 0.5366 - val_loss: 1.3175 - val_accuracy: 0.5344 - lr: 0.0100\n",
      "Epoch 4/25\n",
      "1407/1407 [==============================] - 7s 5ms/step - loss: 1.2707 - accuracy: 0.5502 - val_loss: 1.3087 - val_accuracy: 0.5354 - lr: 0.0100\n",
      "Epoch 5/25\n",
      "1407/1407 [==============================] - 7s 5ms/step - loss: 1.2404 - accuracy: 0.5652 - val_loss: 1.1933 - val_accuracy: 0.5852 - lr: 0.0100\n",
      "Epoch 6/25\n",
      "1407/1407 [==============================] - 7s 5ms/step - loss: 1.1266 - accuracy: 0.6031 - val_loss: 1.0400 - val_accuracy: 0.6312 - lr: 0.0050\n",
      "Epoch 7/25\n",
      "1407/1407 [==============================] - 7s 5ms/step - loss: 1.0979 - accuracy: 0.6124 - val_loss: 1.0563 - val_accuracy: 0.6218 - lr: 0.0050\n",
      "Epoch 8/25\n",
      "1407/1407 [==============================] - 7s 5ms/step - loss: 1.0837 - accuracy: 0.6190 - val_loss: 1.0569 - val_accuracy: 0.6326 - lr: 0.0050\n",
      "Epoch 9/25\n",
      "1407/1407 [==============================] - 7s 5ms/step - loss: 1.0625 - accuracy: 0.6244 - val_loss: 1.0559 - val_accuracy: 0.6314 - lr: 0.0050\n",
      "Epoch 10/25\n",
      "1407/1407 [==============================] - 7s 5ms/step - loss: 1.0532 - accuracy: 0.6279 - val_loss: 1.0103 - val_accuracy: 0.6500 - lr: 0.0050\n",
      "Epoch 11/25\n",
      "1407/1407 [==============================] - 7s 5ms/step - loss: 1.0009 - accuracy: 0.6485 - val_loss: 0.9549 - val_accuracy: 0.6728 - lr: 0.0030\n",
      "Epoch 12/25\n",
      "1407/1407 [==============================] - 7s 5ms/step - loss: 0.9853 - accuracy: 0.6528 - val_loss: 0.9527 - val_accuracy: 0.6750 - lr: 0.0030\n",
      "Epoch 13/25\n",
      "1407/1407 [==============================] - 7s 5ms/step - loss: 0.9773 - accuracy: 0.6550 - val_loss: 0.9503 - val_accuracy: 0.6756 - lr: 0.0030\n",
      "Epoch 14/25\n",
      " 446/1407 [========>.....................] - ETA: 5s - loss: 0.9440 - accuracy: 0.6633"
     ]
    }
   ],
   "source": [
    "history = model.fit(x_train,y_train,validation_data=(x_valid,y_valid),epochs=25,callbacks=[lr_scheduler])"
   ]
  },
  {
   "cell_type": "code",
   "execution_count": 214,
   "metadata": {},
   "outputs": [
    {
     "name": "stdout",
     "output_type": "stream",
     "text": [
      "12/12 [==============================] - 0s 15ms/step - loss: 2.9003 - accuracy: 0.6559\n"
     ]
    }
   ],
   "source": [
    "mse_test = model.evaluate(x_test, y_test)"
   ]
  },
  {
   "cell_type": "code",
   "execution_count": null,
   "metadata": {},
   "outputs": [],
   "source": [
    "import pandas as pd\n",
    "import matplotlib.pyplot as plt\n",
    "pd.DataFrame(history.history).plot(figsize=(8, 5))\n",
    "plt.grid(True)\n",
    "plt.gca().set_ylim(0, 1)\n",
    "plt.show()"
   ]
  },
  {
   "cell_type": "code",
   "execution_count": 22,
   "metadata": {},
   "outputs": [
    {
     "data": {
      "text/plain": [
       "<matplotlib.legend.Legend at 0x15cb70bb4c0>"
      ]
     },
     "execution_count": 22,
     "metadata": {},
     "output_type": "execute_result"
    },
    {
     "data": {
      "image/png": "[encoded data removed]",
      "text/plain": [
       "<Figure size 432x288 with 1 Axes>"
      ]
     },
     "metadata": {
      "needs_background": "light"
     },
     "output_type": "display_data"
    }
   ],
   "source": [
    "plt.plot(history.history['val_loss'], label='val_loss')\n",
    "plt.plot(history.history['loss'], label = 'loss')\n",
    "plt.xlabel('Epoch')\n",
    "plt.ylabel('Cross-Entropy Loss')\n",
    "plt.legend(loc='lower right')"
   ]
  },
  {
   "cell_type": "code",
   "execution_count": 19,
   "metadata": {},
   "outputs": [
    {
     "data": {
      "text/plain": [
       "<matplotlib.legend.Legend at 0x15d17a8df40>"
      ]
     },
     "execution_count": 19,
     "metadata": {},
     "output_type": "execute_result"
    },
    {
     "data": {
      "image/png": "[encoded data removed]",
      "text/plain": [
       "<Figure size 432x288 with 1 Axes>"
      ]
     },
     "metadata": {
      "needs_background": "light"
     },
     "output_type": "display_data"
    }
   ],
   "source": [
    "plt.plot(history.history['accuracy'], label='accuracy')\n",
    "plt.plot(history.history['val_accuracy'], label = 'val_accuracy')\n",
    "plt.xlabel('Epoch')\n",
    "plt.ylabel('Accuracy')\n",
    "plt.ylim([0.5, 1])\n",
    "plt.legend(loc='lower right')"
   ]
  },
  {
   "cell_type": "code",
   "execution_count": 20,
   "metadata": {
    "scrolled": true
   },
   "outputs": [
    {
     "name": "stdout",
     "output_type": "stream",
     "text": [
      "              precision    recall  f1-score   support\n",
      "\n",
      "           0       0.99      1.00      0.99       980\n",
      "           1       0.99      1.00      1.00      1135\n",
      "           2       1.00      1.00      1.00      1032\n",
      "           3       0.99      1.00      0.99      1010\n",
      "           4       0.99      0.99      0.99       982\n",
      "           5       0.99      0.99      0.99       892\n",
      "           6       0.99      0.99      0.99       958\n",
      "           7       0.99      0.99      0.99      1028\n",
      "           8       1.00      0.99      0.99       974\n",
      "           9       0.99      0.99      0.99      1009\n",
      "\n",
      "    accuracy                           0.99     10000\n",
      "   macro avg       0.99      0.99      0.99     10000\n",
      "weighted avg       0.99      0.99      0.99     10000\n",
      "\n"
     ]
    }
   ],
   "source": [
    "from sklearn.metrics import classification_report\n",
    "y_pred = model.predict(x_test)\n",
    "y_pred = [np.argmax(i) for i in y_pred]\n",
    "print(classification_report(y_test, y_pred))"
   ]
  },
  {
   "cell_type": "code",
   "execution_count": 21,
   "metadata": {},
   "outputs": [
    {
     "name": "stdout",
     "output_type": "stream",
     "text": [
      "Hamming Loss: 0.0067\n",
      "Jaccard index \n",
      "0\t0.9898682877406282\n",
      "1\t0.9912510936132983\n",
      "2\t0.9922779922779923\n",
      "3\t0.9922779922779923\n",
      "4\t0.9882237487733072\n",
      "5\t0.9848024316109423\n",
      "6\t0.9843924191750278\n",
      "7\t0.983402489626556\n",
      "8\t0.9845857418111753\n",
      "9\t0.9897645854657113\n",
      "Balanced Accuracy Score: 0.9931711518302743\n",
      "Matthews Correlation Coefficient: 0.9925535439751005\n"
     ]
    }
   ],
   "source": [
    "import sklearn.metrics as sk\n",
    "hl = sk.hamming_loss(y_test, y_pred)\n",
    "js = sk.jaccard_score(y_test, y_pred,average=None)\n",
    "bss = sk.balanced_accuracy_score(y_test,y_pred)\n",
    "mcc = sk.matthews_corrcoef(y_test,y_pred)\n",
    "print(\"Hamming Loss: \"+ str(hl))\n",
    "print(\"Jaccard index \\n\"+ \"0\\t\" + str(js[0]) +\"\\n\" +  \"1\\t\" + str(js[1]) + \"\\n\" + \"2\\t\" + str(js[2])+\"\\n\" + \"3\\t\" + str(js[2]) + \n",
    "     \"\\n\"+\"4\\t\"+str(js[3]) + \"\\n\"+\"5\\t\"+str(js[4]) +\"\\n\"+\"6\\t\"+str(js[5]) + \"\\n\"+\"7\\t\"+str(js[6]) + \"\\n\"+\"8\\t\"+str(js[7])\n",
    "     + \"\\n\"+\"9\\t\"+str(js[8]))\n",
    "print(\"Balanced Accuracy Score: \" + str(bss))\n",
    "print(\"Matthews Correlation Coefficient: \"+ str(mcc))"
   ]
  },
  {
   "cell_type": "code",
   "execution_count": null,
   "metadata": {},
   "outputs": [],
   "source": []
  }
 ],
 "metadata": {
  "kernelspec": {
   "display_name": "GPU_ACC",
   "language": "python",
   "name": "gpu_acc"
  },
  "language_info": {
   "codemirror_mode": {
    "name": "ipython",
    "version": 3
   },
   "file_extension": ".py",
   "mimetype": "text/x-python",
   "name": "python",
   "nbconvert_exporter": "python",
   "pygments_lexer": "ipython3",
   "version": "3.8.12"
  }
 },
 "nbformat": 4,
 "nbformat_minor": 4
}
